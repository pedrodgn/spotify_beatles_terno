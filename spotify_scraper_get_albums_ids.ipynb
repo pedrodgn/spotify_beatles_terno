{
 "cells": [
  {
   "cell_type": "code",
   "execution_count": 1,
   "id": "999a3dff",
   "metadata": {},
   "outputs": [
    {
     "name": "stderr",
     "output_type": "stream",
     "text": [
      "C:\\Users\\Pedro\\anaconda3\\Lib\\site-packages\\fuzzywuzzy\\fuzz.py:11: UserWarning: Using slow pure-python SequenceMatcher. Install python-Levenshtein to remove this warning\n",
      "  warnings.warn('Using slow pure-python SequenceMatcher. Install python-Levenshtein to remove this warning')\n"
     ]
    }
   ],
   "source": [
    "import pandas as pd\n",
    "from selenium import webdriver\n",
    "from selenium.webdriver.common.by import By\n",
    "from selenium.webdriver.support.ui import WebDriverWait\n",
    "from selenium.webdriver.support import expected_conditions as EC\n",
    "from selenium import webdriver\n",
    "from selenium.webdriver.common.keys import Keys\n",
    "from webdriver_manager.chrome import ChromeDriverManager\n",
    "import time\n",
    "from fuzzywuzzy import fuzz\n",
    "from datetime import date\n",
    "import datetime as dt\n",
    "import pandas as pd\n",
    "import numpy as np\n",
    "import random\n",
    "from selenium.webdriver.chrome.options import Options\n",
    "import re\n",
    "from tqdm import tqdm\n",
    "import warnings\n",
    "import selenium\n",
    "warnings.filterwarnings(\"ignore\")"
   ]
  },
  {
   "cell_type": "markdown",
   "id": "a1032bb6",
   "metadata": {},
   "source": [
    "Beatles"
   ]
  },
  {
   "cell_type": "code",
   "execution_count": 2,
   "id": "251dfbf4",
   "metadata": {},
   "outputs": [],
   "source": [
    "driver = webdriver.Chrome()\n",
    "driver.get(\"https://open.spotify.com/intl-pt/artist/3WrFJ7ztbogyGnTHbHJFl2/discography/album\")"
   ]
  },
  {
   "cell_type": "code",
   "execution_count": 5,
   "id": "ff24b0ec",
   "metadata": {},
   "outputs": [],
   "source": [
    "links = pd.Series([val.get_attribute(\"href\") for val in driver.find_elements(\"xpath\",\"//a[@href]\")])\n"
   ]
  },
  {
   "cell_type": "code",
   "execution_count": 6,
   "id": "73001849",
   "metadata": {},
   "outputs": [],
   "source": [
    "links[links.str.contains(\"https://open.spotify.com/intl-pt/album\")].to_csv(\"beatles_albums_urls.csv\",index=False)"
   ]
  },
  {
   "cell_type": "code",
   "execution_count": 8,
   "id": "69b2595e",
   "metadata": {},
   "outputs": [
    {
     "data": {
      "text/plain": [
       "27"
      ]
     },
     "execution_count": 8,
     "metadata": {},
     "output_type": "execute_result"
    }
   ],
   "source": [
    "len(links[links.str.contains(\"https://open.spotify.com/intl-pt/album\")])"
   ]
  },
  {
   "cell_type": "markdown",
   "id": "5d29006d",
   "metadata": {},
   "source": [
    "Terno"
   ]
  },
  {
   "cell_type": "code",
   "execution_count": 9,
   "id": "95e09478",
   "metadata": {},
   "outputs": [],
   "source": [
    "driver = webdriver.Chrome()\n",
    "driver.get(\"https://open.spotify.com/intl-pt/artist/2TuVzZPwEPqpstqmA0qLl6/discography/album\")"
   ]
  },
  {
   "cell_type": "code",
   "execution_count": 10,
   "id": "bed1f72e",
   "metadata": {},
   "outputs": [],
   "source": [
    "links = pd.Series([val.get_attribute(\"href\") for val in driver.find_elements(\"xpath\",\"//a[@href]\")])\n"
   ]
  },
  {
   "cell_type": "code",
   "execution_count": 12,
   "id": "9da14a9e",
   "metadata": {},
   "outputs": [],
   "source": [
    "links[links.str.contains(\"https://open.spotify.com/intl-pt/album\")].to_csv(\"terno_albums_urls.csv\",index=False)"
   ]
  },
  {
   "cell_type": "code",
   "execution_count": null,
   "id": "a7484376",
   "metadata": {},
   "outputs": [],
   "source": []
  },
  {
   "cell_type": "code",
   "execution_count": null,
   "id": "5db2bad8",
   "metadata": {},
   "outputs": [],
   "source": []
  }
 ],
 "metadata": {
  "kernelspec": {
   "display_name": "Python 3 (ipykernel)",
   "language": "python",
   "name": "python3"
  },
  "language_info": {
   "codemirror_mode": {
    "name": "ipython",
    "version": 3
   },
   "file_extension": ".py",
   "mimetype": "text/x-python",
   "name": "python",
   "nbconvert_exporter": "python",
   "pygments_lexer": "ipython3",
   "version": "3.11.4"
  }
 },
 "nbformat": 4,
 "nbformat_minor": 5
}
