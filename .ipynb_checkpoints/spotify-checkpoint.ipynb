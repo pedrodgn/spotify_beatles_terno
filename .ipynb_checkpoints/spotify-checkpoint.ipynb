{
 "cells": [
  {
   "cell_type": "code",
   "execution_count": 13,
   "id": "f9d6607f",
   "metadata": {},
   "outputs": [],
   "source": [
    "import spotipy\n",
    "from spotipy.oauth2 import SpotifyOAuth, SpotifyClientCredentials\n",
    "import pandas as pd\n",
    "from tqdm import tqdm"
   ]
  },
  {
   "cell_type": "code",
   "execution_count": 3,
   "id": "0dad5288",
   "metadata": {},
   "outputs": [],
   "source": [
    "scope = \"user-library-read playlist-modify-private\"\n",
    "\n",
    "OAuth = SpotifyOAuth(\n",
    "    scope=scope,\n",
    "    redirect_uri=\"localhost:5000/callback\",\n",
    "    client_id=\"4da1e175809f4df5840d973e58de08bd\",\n",
    "    client_secret=\"057417eadfce4e6b90cf16e80df33883\"\n",
    ")"
   ]
  },
  {
   "cell_type": "code",
   "execution_count": 4,
   "id": "c279090e",
   "metadata": {},
   "outputs": [],
   "source": [
    "client_credentials_manager = SpotifyClientCredentials(client_id=\"4da1e175809f4df5840d973e58de08bd\",\n",
    "    client_secret=\"057417eadfce4e6b90cf16e80df33883\")\n",
    "sp = spotipy.Spotify(client_credentials_manager=client_credentials_manager)"
   ]
  },
  {
   "cell_type": "code",
   "execution_count": null,
   "id": "965b302a",
   "metadata": {},
   "outputs": [],
   "source": []
  },
  {
   "cell_type": "code",
   "execution_count": null,
   "id": "f9f6d593",
   "metadata": {},
   "outputs": [],
   "source": []
  },
  {
   "cell_type": "code",
   "execution_count": null,
   "id": "ee774078",
   "metadata": {},
   "outputs": [],
   "source": []
  },
  {
   "cell_type": "markdown",
   "id": "2b85419c",
   "metadata": {},
   "source": [
    "### The Beatles"
   ]
  },
  {
   "cell_type": "code",
   "execution_count": 56,
   "id": "5b6c3c23",
   "metadata": {},
   "outputs": [],
   "source": [
    "albums_urls = list(pd.read_csv(\"beatles_albums_urls.csv\")[\"0\"])\n",
    "albums_ids = list(pd.Series(albums_urls).apply(lambda x: x.split(\"/\")[-1]))"
   ]
  },
  {
   "cell_type": "code",
   "execution_count": null,
   "id": "f46ad77b",
   "metadata": {},
   "outputs": [],
   "source": []
  },
  {
   "cell_type": "code",
   "execution_count": 57,
   "id": "42b29c41",
   "metadata": {},
   "outputs": [],
   "source": [
    "full_tracks_df = pd.DataFrame()\n",
    "\n",
    "\n",
    "for album_id in albums_ids: \n",
    "    json_response = sp.album_tracks(album_id)\n",
    "    album_tracks_df = pd.DataFrame(list(pd.DataFrame(json_response)[\"items\"]))\n",
    "    album_tracks_df[\"album_name\"] = sp.album(album_id)[\"name\"]\n",
    "    \n",
    "    full_tracks_df = pd.concat([full_tracks_df,album_tracks_df])"
   ]
  },
  {
   "cell_type": "code",
   "execution_count": null,
   "id": "9a337942",
   "metadata": {},
   "outputs": [],
   "source": []
  },
  {
   "cell_type": "code",
   "execution_count": 58,
   "id": "222b3b0d",
   "metadata": {},
   "outputs": [],
   "source": [
    "full_features_df = pd.DataFrame()\n",
    "\n",
    "for i in range(0,700,100):\n",
    "    \n",
    "    local_track_features_df = pd.DataFrame(sp.audio_features(list(full_tracks_df[\"id\"][i:i+100])))\n",
    "    full_features_df = pd.concat([full_features_df,local_track_features_df])\n",
    "    \n",
    "full_features_df = full_features_df.merge(full_tracks_df[[\"name\",\"id\",\"album_name\"]])\n",
    "full_features_df[\"artist_name\"] = \"The Beatles\"\n",
    "full_features_df.to_csv(\"beatles_track_features.csv\",index=False)"
   ]
  },
  {
   "cell_type": "code",
   "execution_count": null,
   "id": "3e9a9f58",
   "metadata": {},
   "outputs": [],
   "source": []
  },
  {
   "cell_type": "code",
   "execution_count": null,
   "id": "e66866eb",
   "metadata": {},
   "outputs": [],
   "source": []
  },
  {
   "cell_type": "markdown",
   "id": "1429d4c8",
   "metadata": {},
   "source": [
    "### O Terno"
   ]
  },
  {
   "cell_type": "code",
   "execution_count": 59,
   "id": "3b0b184f",
   "metadata": {},
   "outputs": [],
   "source": [
    "albums_urls = list(pd.read_csv(\"terno_albums_urls.csv\")[\"0\"])\n",
    "albums_ids = list(pd.Series(albums_urls).apply(lambda x: x.split(\"/\")[-1]))"
   ]
  },
  {
   "cell_type": "code",
   "execution_count": 60,
   "id": "3ec8a1e7",
   "metadata": {},
   "outputs": [],
   "source": [
    "full_tracks_df = pd.DataFrame()\n",
    "\n",
    "\n",
    "for album_id in albums_ids: \n",
    "    json_response = sp.album_tracks(album_id)\n",
    "    album_tracks_df = pd.DataFrame(list(pd.DataFrame(json_response)[\"items\"]))\n",
    "    album_tracks_df[\"album_name\"] = sp.album(album_id)[\"name\"]\n",
    "    \n",
    "    full_tracks_df = pd.concat([full_tracks_df,album_tracks_df])"
   ]
  },
  {
   "cell_type": "code",
   "execution_count": null,
   "id": "88fefdc5",
   "metadata": {},
   "outputs": [],
   "source": []
  },
  {
   "cell_type": "code",
   "execution_count": 61,
   "id": "9023b235",
   "metadata": {},
   "outputs": [],
   "source": [
    "full_features_df = pd.DataFrame()\n",
    "\n",
    "for i in range(0,100,100):\n",
    "    \n",
    "    local_track_features_df = pd.DataFrame(sp.audio_features(list(full_tracks_df[\"id\"][i:i+100])))\n",
    "    full_features_df = pd.concat([full_features_df,local_track_features_df])\n",
    "    \n",
    "full_features_df = full_features_df.merge(full_tracks_df[[\"name\",\"id\",\"album_name\"]])\n",
    "full_features_df[\"artist_name\"] = \"O Terno\"\n",
    "full_features_df.to_csv(\"terno_track_features.csv\",index=False)"
   ]
  },
  {
   "cell_type": "code",
   "execution_count": null,
   "id": "ffec76d8",
   "metadata": {},
   "outputs": [],
   "source": []
  },
  {
   "cell_type": "code",
   "execution_count": null,
   "id": "28bca517",
   "metadata": {},
   "outputs": [],
   "source": []
  },
  {
   "cell_type": "code",
   "execution_count": null,
   "id": "ba65136e",
   "metadata": {},
   "outputs": [],
   "source": []
  },
  {
   "cell_type": "code",
   "execution_count": null,
   "id": "926f4d56",
   "metadata": {},
   "outputs": [],
   "source": []
  },
  {
   "cell_type": "code",
   "execution_count": null,
   "id": "83451aaf",
   "metadata": {},
   "outputs": [],
   "source": []
  }
 ],
 "metadata": {
  "kernelspec": {
   "display_name": "Python 3 (ipykernel)",
   "language": "python",
   "name": "python3"
  },
  "language_info": {
   "codemirror_mode": {
    "name": "ipython",
    "version": 3
   },
   "file_extension": ".py",
   "mimetype": "text/x-python",
   "name": "python",
   "nbconvert_exporter": "python",
   "pygments_lexer": "ipython3",
   "version": "3.11.4"
  }
 },
 "nbformat": 4,
 "nbformat_minor": 5
}
